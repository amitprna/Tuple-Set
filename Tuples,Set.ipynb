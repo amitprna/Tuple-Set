{
 "cells": [
  {
   "cell_type": "markdown",
   "id": "42b1e66d",
   "metadata": {},
   "source": [
    "# Tuples, Set"
   ]
  },
  {
   "cell_type": "code",
   "execution_count": 63,
   "id": "b32e6c62",
   "metadata": {},
   "outputs": [
    {
     "name": "stdout",
     "output_type": "stream",
     "text": [
      "1080\n"
     ]
    }
   ],
   "source": [
    "def mult(a,b):\n",
    "    return a*b\n",
    "\n",
    "list1 = [9,2,3,4,5]\n",
    "\n",
    "\n",
    "def myreduce(func,seq):\n",
    "    res = seq[0]\n",
    "    for i in range(len(seq)):\n",
    "        if i!=len(seq)-1:\n",
    "            res = func(seq[i+1],res)     \n",
    "    return res\n",
    "print(myreduce(mult,list1))"
   ]
  },
  {
   "cell_type": "code",
   "execution_count": 64,
   "id": "aa0fb1c7",
   "metadata": {},
   "outputs": [
    {
     "name": "stdout",
     "output_type": "stream",
     "text": [
      "[4, 8, 10, 456]\n"
     ]
    }
   ],
   "source": [
    "def is_even(a):\n",
    "    return a%2==0\n",
    "    \n",
    "list1 = [3,4,7,8,9,10,456]\n",
    "\n",
    "def myfilter(fun,seq):\n",
    "    out = []\n",
    "    for i in seq:\n",
    "        if fun(i):\n",
    "            out.append(i)\n",
    "    return out\n",
    "print(myfilter(is_even,list1))\n",
    "\n",
    "    "
   ]
  },
  {
   "cell_type": "code",
   "execution_count": 93,
   "id": "ae1ab37a",
   "metadata": {},
   "outputs": [
    {
     "name": "stdout",
     "output_type": "stream",
     "text": [
      "['x', 'y', 'z', 'xx', 'yy', 'zz', 'xxx', 'yyy', 'zzz', 'xxxx', 'yyyy', 'zzzz']\n"
     ]
    }
   ],
   "source": [
    "pat1 = [i*j for j in range(1,5) for i in ['x','y','z']]\n",
    "print(pat1)"
   ]
  },
  {
   "cell_type": "code",
   "execution_count": 96,
   "id": "70c413bf",
   "metadata": {},
   "outputs": [
    {
     "name": "stdout",
     "output_type": "stream",
     "text": [
      "['x', 'y', 'z', 'xx', 'yy', 'zz', 'xxx', 'yyy', 'zzz', 'xxxx', 'yyyy', 'zzzz']\n"
     ]
    }
   ],
   "source": [
    "pat2 = [i*j for j in range(1,5) for i in ['x','y','z']]\n",
    "[i*j for j in range(1,5) for i in ['x','y','z']].sort()\n",
    "print(pat2)"
   ]
  },
  {
   "cell_type": "code",
   "execution_count": 112,
   "id": "9a756da9",
   "metadata": {},
   "outputs": [
    {
     "name": "stdout",
     "output_type": "stream",
     "text": [
      "[[2], [3], [4], [3], [4], [5], [4], [5], [6], [[2, 3, 4, 5], [3, 4, 5, 6], [4, 5, 6, 7], [5, 6, 7, 8]]]\n"
     ]
    }
   ],
   "source": [
    "pat3 = [[i+j] for j in range(3) for i in [2,3,4]]\n",
    "pat = [[i+j for j in range(4)] for i in [2,3,4,5]]\n",
    "pat3.append(pat)\n",
    "print(pat3)\n"
   ]
  },
  {
   "cell_type": "code",
   "execution_count": 117,
   "id": "44ff2182",
   "metadata": {},
   "outputs": [
    {
     "name": "stdout",
     "output_type": "stream",
     "text": [
      "[(1, 1), (2, 1), (3, 1), (1, 2), (2, 2), (3, 2), (1, 3), (2, 3), (3, 3)]\n"
     ]
    }
   ],
   "source": [
    "pat3 = [(i,j) for j in range(1,4) for i in range(1,4)]\n",
    "print(pat3)"
   ]
  },
  {
   "cell_type": "code",
   "execution_count": null,
   "id": "d01bcc57",
   "metadata": {},
   "outputs": [],
   "source": []
  }
 ],
 "metadata": {
  "kernelspec": {
   "display_name": "Python 3",
   "language": "python",
   "name": "python3"
  },
  "language_info": {
   "codemirror_mode": {
    "name": "ipython",
    "version": 3
   },
   "file_extension": ".py",
   "mimetype": "text/x-python",
   "name": "python",
   "nbconvert_exporter": "python",
   "pygments_lexer": "ipython3",
   "version": "3.8.8"
  }
 },
 "nbformat": 4,
 "nbformat_minor": 5
}
